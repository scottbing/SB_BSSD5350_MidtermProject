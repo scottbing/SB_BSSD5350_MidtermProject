{
 "cells": [
  {
   "cell_type": "markdown",
   "id": "frequent-locator",
   "metadata": {},
   "source": [
    "*Source Citation* https://towardsdatascience.com/building-a-machine-learning-classifier-model-for-diabetes-4fca624daed0<br>\n",
    "*Source Citation* https://www.kaggle.com/atulnet/pima-diabetes-keras-implementation/notebook<br>\n",
    "\n",
    "# Diabetes Classifier\n",
    "\n",
    "This program builds a classifier for Pima Indians Diabetes dataset - https://www.kaggle.com/uciml/pima-indians-diabetes-database. It is a binary (2-class) classification problem. There are 768 observations with 8 input variables and 1 output/target variable. The variable names are as follows:\n",
    "\n",
    "- Pregnancies: Number of times pregnant\n",
    "- Glucose: Plasma glucose concentration a 2 hours in an oral glucose tolerance test\n",
    "- BloodPressure: Diastolic blood pressure (mm Hg)\n",
    "- SkinThickness: Triceps skin fold thickness (mm)\n",
    "- Insulin: 2-Hour serum insulin (mu U/ml)\n",
    "- BMI: Body mass index (weight in kg/(height in m)^2)\n",
    "- DiabetesPedigreeFunction: Diabetes pedigree function\n",
    "- Age: Age (years)\n",
    "- Outcome: Class variable (0 or 1) 268 of 768 are 1, the others are 0"
   ]
  },
  {
   "cell_type": "code",
   "execution_count": 1,
   "id": "tested-cleaners",
   "metadata": {},
   "outputs": [],
   "source": [
    "import numpy as np # linear algebra\n",
    "import pandas as pd # data processing, CSV file I/O (e.g. pd.read_cs"
   ]
  },
  {
   "cell_type": "code",
   "execution_count": 2,
   "id": "strong-statement",
   "metadata": {},
   "outputs": [],
   "source": [
    "import matplotlib.pyplot as plt\n",
    "%matplotlib inline\n",
    "\n",
    "from keras.models import Sequential\n",
    "from keras.layers import Dense\n",
    "from keras.callbacks import ModelCheckpoint\n",
    "\n",
    "seed = 42\n",
    "np.random.seed(seed)\n",
    "\n",
    "pd.set_option('mode.chained_assignment', None)"
   ]
  },
  {
   "cell_type": "code",
   "execution_count": 3,
   "id": "excessive-privacy",
   "metadata": {},
   "outputs": [
    {
     "data": {
      "text/html": [
       "<div>\n",
       "<style scoped>\n",
       "    .dataframe tbody tr th:only-of-type {\n",
       "        vertical-align: middle;\n",
       "    }\n",
       "\n",
       "    .dataframe tbody tr th {\n",
       "        vertical-align: top;\n",
       "    }\n",
       "\n",
       "    .dataframe thead th {\n",
       "        text-align: right;\n",
       "    }\n",
       "</style>\n",
       "<table border=\"1\" class=\"dataframe\">\n",
       "  <thead>\n",
       "    <tr style=\"text-align: right;\">\n",
       "      <th></th>\n",
       "      <th>Pregnancies</th>\n",
       "      <th>Glucose</th>\n",
       "      <th>BloodPressure</th>\n",
       "      <th>SkinThickness</th>\n",
       "      <th>Insulin</th>\n",
       "      <th>BMI</th>\n",
       "      <th>DiabetesPedigreeFunction</th>\n",
       "      <th>Age</th>\n",
       "      <th>Outcome</th>\n",
       "    </tr>\n",
       "  </thead>\n",
       "  <tbody>\n",
       "    <tr>\n",
       "      <th>0</th>\n",
       "      <td>6</td>\n",
       "      <td>148</td>\n",
       "      <td>72</td>\n",
       "      <td>35</td>\n",
       "      <td>0</td>\n",
       "      <td>33.6</td>\n",
       "      <td>0.627</td>\n",
       "      <td>50</td>\n",
       "      <td>1</td>\n",
       "    </tr>\n",
       "    <tr>\n",
       "      <th>1</th>\n",
       "      <td>1</td>\n",
       "      <td>85</td>\n",
       "      <td>66</td>\n",
       "      <td>29</td>\n",
       "      <td>0</td>\n",
       "      <td>26.6</td>\n",
       "      <td>0.351</td>\n",
       "      <td>31</td>\n",
       "      <td>0</td>\n",
       "    </tr>\n",
       "    <tr>\n",
       "      <th>2</th>\n",
       "      <td>8</td>\n",
       "      <td>183</td>\n",
       "      <td>64</td>\n",
       "      <td>0</td>\n",
       "      <td>0</td>\n",
       "      <td>23.3</td>\n",
       "      <td>0.672</td>\n",
       "      <td>32</td>\n",
       "      <td>1</td>\n",
       "    </tr>\n",
       "    <tr>\n",
       "      <th>3</th>\n",
       "      <td>1</td>\n",
       "      <td>89</td>\n",
       "      <td>66</td>\n",
       "      <td>23</td>\n",
       "      <td>94</td>\n",
       "      <td>28.1</td>\n",
       "      <td>0.167</td>\n",
       "      <td>21</td>\n",
       "      <td>0</td>\n",
       "    </tr>\n",
       "    <tr>\n",
       "      <th>4</th>\n",
       "      <td>0</td>\n",
       "      <td>137</td>\n",
       "      <td>40</td>\n",
       "      <td>35</td>\n",
       "      <td>168</td>\n",
       "      <td>43.1</td>\n",
       "      <td>2.288</td>\n",
       "      <td>33</td>\n",
       "      <td>1</td>\n",
       "    </tr>\n",
       "  </tbody>\n",
       "</table>\n",
       "</div>"
      ],
      "text/plain": [
       "   Pregnancies  Glucose  BloodPressure  SkinThickness  Insulin   BMI  \\\n",
       "0            6      148             72             35        0  33.6   \n",
       "1            1       85             66             29        0  26.6   \n",
       "2            8      183             64              0        0  23.3   \n",
       "3            1       89             66             23       94  28.1   \n",
       "4            0      137             40             35      168  43.1   \n",
       "\n",
       "   DiabetesPedigreeFunction  Age  Outcome  \n",
       "0                     0.627   50        1  \n",
       "1                     0.351   31        0  \n",
       "2                     0.672   32        1  \n",
       "3                     0.167   21        0  \n",
       "4                     2.288   33        1  "
      ]
     },
     "execution_count": 3,
     "metadata": {},
     "output_type": "execute_result"
    }
   ],
   "source": [
    "# load Pima dataset\n",
    "pdata = pd.read_csv('diabetes.csv')\n",
    "pdata.head()"
   ]
  },
  {
   "cell_type": "code",
   "execution_count": 4,
   "id": "coordinated-immigration",
   "metadata": {},
   "outputs": [
    {
     "data": {
      "text/html": [
       "<div>\n",
       "<style scoped>\n",
       "    .dataframe tbody tr th:only-of-type {\n",
       "        vertical-align: middle;\n",
       "    }\n",
       "\n",
       "    .dataframe tbody tr th {\n",
       "        vertical-align: top;\n",
       "    }\n",
       "\n",
       "    .dataframe thead th {\n",
       "        text-align: right;\n",
       "    }\n",
       "</style>\n",
       "<table border=\"1\" class=\"dataframe\">\n",
       "  <thead>\n",
       "    <tr style=\"text-align: right;\">\n",
       "      <th></th>\n",
       "      <th>Pregnancies</th>\n",
       "      <th>Glucose</th>\n",
       "      <th>BloodPressure</th>\n",
       "      <th>SkinThickness</th>\n",
       "      <th>Insulin</th>\n",
       "      <th>BMI</th>\n",
       "      <th>DiabetesPedigreeFunction</th>\n",
       "      <th>Age</th>\n",
       "      <th>Outcome</th>\n",
       "    </tr>\n",
       "  </thead>\n",
       "  <tbody>\n",
       "    <tr>\n",
       "      <th>count</th>\n",
       "      <td>768.000000</td>\n",
       "      <td>768.000000</td>\n",
       "      <td>768.000000</td>\n",
       "      <td>768.000000</td>\n",
       "      <td>768.000000</td>\n",
       "      <td>768.000000</td>\n",
       "      <td>768.000000</td>\n",
       "      <td>768.000000</td>\n",
       "      <td>768.000000</td>\n",
       "    </tr>\n",
       "    <tr>\n",
       "      <th>mean</th>\n",
       "      <td>3.845052</td>\n",
       "      <td>120.894531</td>\n",
       "      <td>69.105469</td>\n",
       "      <td>20.536458</td>\n",
       "      <td>79.799479</td>\n",
       "      <td>31.992578</td>\n",
       "      <td>0.471876</td>\n",
       "      <td>33.240885</td>\n",
       "      <td>0.348958</td>\n",
       "    </tr>\n",
       "    <tr>\n",
       "      <th>std</th>\n",
       "      <td>3.369578</td>\n",
       "      <td>31.972618</td>\n",
       "      <td>19.355807</td>\n",
       "      <td>15.952218</td>\n",
       "      <td>115.244002</td>\n",
       "      <td>7.884160</td>\n",
       "      <td>0.331329</td>\n",
       "      <td>11.760232</td>\n",
       "      <td>0.476951</td>\n",
       "    </tr>\n",
       "    <tr>\n",
       "      <th>min</th>\n",
       "      <td>0.000000</td>\n",
       "      <td>0.000000</td>\n",
       "      <td>0.000000</td>\n",
       "      <td>0.000000</td>\n",
       "      <td>0.000000</td>\n",
       "      <td>0.000000</td>\n",
       "      <td>0.078000</td>\n",
       "      <td>21.000000</td>\n",
       "      <td>0.000000</td>\n",
       "    </tr>\n",
       "    <tr>\n",
       "      <th>25%</th>\n",
       "      <td>1.000000</td>\n",
       "      <td>99.000000</td>\n",
       "      <td>62.000000</td>\n",
       "      <td>0.000000</td>\n",
       "      <td>0.000000</td>\n",
       "      <td>27.300000</td>\n",
       "      <td>0.243750</td>\n",
       "      <td>24.000000</td>\n",
       "      <td>0.000000</td>\n",
       "    </tr>\n",
       "    <tr>\n",
       "      <th>50%</th>\n",
       "      <td>3.000000</td>\n",
       "      <td>117.000000</td>\n",
       "      <td>72.000000</td>\n",
       "      <td>23.000000</td>\n",
       "      <td>30.500000</td>\n",
       "      <td>32.000000</td>\n",
       "      <td>0.372500</td>\n",
       "      <td>29.000000</td>\n",
       "      <td>0.000000</td>\n",
       "    </tr>\n",
       "    <tr>\n",
       "      <th>75%</th>\n",
       "      <td>6.000000</td>\n",
       "      <td>140.250000</td>\n",
       "      <td>80.000000</td>\n",
       "      <td>32.000000</td>\n",
       "      <td>127.250000</td>\n",
       "      <td>36.600000</td>\n",
       "      <td>0.626250</td>\n",
       "      <td>41.000000</td>\n",
       "      <td>1.000000</td>\n",
       "    </tr>\n",
       "    <tr>\n",
       "      <th>max</th>\n",
       "      <td>17.000000</td>\n",
       "      <td>199.000000</td>\n",
       "      <td>122.000000</td>\n",
       "      <td>99.000000</td>\n",
       "      <td>846.000000</td>\n",
       "      <td>67.100000</td>\n",
       "      <td>2.420000</td>\n",
       "      <td>81.000000</td>\n",
       "      <td>1.000000</td>\n",
       "    </tr>\n",
       "  </tbody>\n",
       "</table>\n",
       "</div>"
      ],
      "text/plain": [
       "       Pregnancies     Glucose  BloodPressure  SkinThickness     Insulin  \\\n",
       "count   768.000000  768.000000     768.000000     768.000000  768.000000   \n",
       "mean      3.845052  120.894531      69.105469      20.536458   79.799479   \n",
       "std       3.369578   31.972618      19.355807      15.952218  115.244002   \n",
       "min       0.000000    0.000000       0.000000       0.000000    0.000000   \n",
       "25%       1.000000   99.000000      62.000000       0.000000    0.000000   \n",
       "50%       3.000000  117.000000      72.000000      23.000000   30.500000   \n",
       "75%       6.000000  140.250000      80.000000      32.000000  127.250000   \n",
       "max      17.000000  199.000000     122.000000      99.000000  846.000000   \n",
       "\n",
       "              BMI  DiabetesPedigreeFunction         Age     Outcome  \n",
       "count  768.000000                768.000000  768.000000  768.000000  \n",
       "mean    31.992578                  0.471876   33.240885    0.348958  \n",
       "std      7.884160                  0.331329   11.760232    0.476951  \n",
       "min      0.000000                  0.078000   21.000000    0.000000  \n",
       "25%     27.300000                  0.243750   24.000000    0.000000  \n",
       "50%     32.000000                  0.372500   29.000000    0.000000  \n",
       "75%     36.600000                  0.626250   41.000000    1.000000  \n",
       "max     67.100000                  2.420000   81.000000    1.000000  "
      ]
     },
     "execution_count": 4,
     "metadata": {},
     "output_type": "execute_result"
    }
   ],
   "source": [
    "# take alook at the data sa whole\n",
    "pdata.describe()"
   ]
  },
  {
   "cell_type": "code",
   "execution_count": 5,
   "id": "competent-sheriff",
   "metadata": {},
   "outputs": [
    {
     "data": {
      "text/plain": [
       "Pregnancies                 0\n",
       "Glucose                     0\n",
       "BloodPressure               0\n",
       "SkinThickness               0\n",
       "Insulin                     0\n",
       "BMI                         0\n",
       "DiabetesPedigreeFunction    0\n",
       "Age                         0\n",
       "Outcome                     0\n",
       "dtype: int64"
      ]
     },
     "execution_count": 5,
     "metadata": {},
     "output_type": "execute_result"
    }
   ],
   "source": [
    "#check for NA (unknown) values\n",
    "pdata.isna().sum()"
   ]
  },
  {
   "cell_type": "code",
   "execution_count": 6,
   "id": "necessary-irrigation",
   "metadata": {},
   "outputs": [],
   "source": [
    "#drop any unknown values\n",
    "pdata = pdata.dropna()"
   ]
  },
  {
   "cell_type": "code",
   "execution_count": 7,
   "id": "happy-temperature",
   "metadata": {},
   "outputs": [
    {
     "name": "stdout",
     "output_type": "stream",
     "text": [
      "field Glucose: num 0-entries: 5\n",
      "field BloodPressure: num 0-entries: 35\n",
      "field SkinThickness: num 0-entries: 227\n",
      "field Insulin: num 0-entries: 374\n",
      "field BMI: num 0-entries: 11\n"
     ]
    }
   ],
   "source": [
    "# Check for zero valued entries in each category\n",
    "\n",
    "zero_fields = ['Glucose', 'BloodPressure', 'SkinThickness', 'Insulin', 'BMI']\n",
    "\n",
    "def check_zero_entries(data, fields):\n",
    "    \"\"\" List number of 0-entries in each of the given fields\"\"\"\n",
    "    for field in fields:\n",
    "        print('field %s: num 0-entries: %d' % (field, len(data.loc[ data[field] == 0, field ])))\n",
    "\n",
    "check_zero_entries(pdata, zero_fields)"
   ]
  },
  {
   "cell_type": "code",
   "execution_count": 8,
   "id": "atomic-chapter",
   "metadata": {},
   "outputs": [
    {
     "name": "stdout",
     "output_type": "stream",
     "text": [
      "['Pregnancies', 'Glucose', 'BloodPressure', 'SkinThickness', 'Insulin', 'BMI', 'DiabetesPedigreeFunction', 'Age']\n",
      "(576, 8)\n",
      "(192, 8)\n"
     ]
    }
   ],
   "source": [
    "# split the datset into train and test\n",
    "from sklearn.model_selection import train_test_split\n",
    "\n",
    "features = list(pdata.columns.values)\n",
    "features.remove('Outcome')\n",
    "print(features)\n",
    "X = pdata[features]\n",
    "y = pdata['Outcome']\n",
    "\n",
    "X_train, X_test, y_train, y_test = train_test_split(X, y, test_size=0.25, random_state=0)\n",
    "\n",
    "print(X_train.shape)\n",
    "print(X_test.shape)"
   ]
  },
  {
   "cell_type": "code",
   "execution_count": 9,
   "id": "viral-venezuela",
   "metadata": {},
   "outputs": [],
   "source": [
    "# lets fix the 0-entry for a field in the dataset with its mean value\n",
    "# taken from:  https://www.kaggle.com/atulnet/pima-diabetes-keras-implementation/notebook\n",
    "def impute_zero_field(data, field):\n",
    "    nonzero_vals = data.loc[data[field] != 0, field]\n",
    "    avg = np.sum(nonzero_vals) / len(nonzero_vals)\n",
    "    k = len(data.loc[ data[field] == 0, field])   # num of 0-entries\n",
    "    data.loc[ data[field] == 0, field ] = avg\n",
    "    print('Field: %s; fixed %d entries with value: %.3f' % (field, k, avg))"
   ]
  },
  {
   "cell_type": "code",
   "execution_count": 10,
   "id": "worthy-brief",
   "metadata": {},
   "outputs": [
    {
     "name": "stdout",
     "output_type": "stream",
     "text": [
      "Field: Glucose; fixed 4 entries with value: 122.003\n",
      "Field: BloodPressure; fixed 25 entries with value: 72.846\n",
      "Field: SkinThickness; fixed 163 entries with value: 29.465\n",
      "Field: Insulin; fixed 270 entries with value: 158.464\n",
      "Field: BMI; fixed 8 entries with value: 32.663\n"
     ]
    }
   ],
   "source": [
    "# Fix it for Train dataset\n",
    "for field in zero_fields:\n",
    "    impute_zero_field(X_train, field)"
   ]
  },
  {
   "cell_type": "code",
   "execution_count": 11,
   "id": "developing-reasoning",
   "metadata": {},
   "outputs": [
    {
     "name": "stdout",
     "output_type": "stream",
     "text": [
      "field Glucose: num 0-entries: 0\n",
      "field BloodPressure: num 0-entries: 0\n",
      "field SkinThickness: num 0-entries: 0\n",
      "field Insulin: num 0-entries: 0\n",
      "field BMI: num 0-entries: 0\n"
     ]
    }
   ],
   "source": [
    "# double check for the Train dataset\n",
    "check_zero_entries(X_train, zero_fields)"
   ]
  },
  {
   "cell_type": "code",
   "execution_count": 12,
   "id": "specific-copying",
   "metadata": {},
   "outputs": [
    {
     "name": "stdout",
     "output_type": "stream",
     "text": [
      "Field: Glucose; fixed 1 entries with value: 120.738\n",
      "Field: BloodPressure; fixed 10 entries with value: 71.071\n",
      "Field: SkinThickness; fixed 64 entries with value: 28.148\n",
      "Field: Insulin; fixed 104 entries with value: 145.409\n",
      "Field: BMI; fixed 3 entries with value: 31.841\n"
     ]
    }
   ],
   "source": [
    "# Fix for Test dataset\n",
    "for field in zero_fields:\n",
    "    impute_zero_field(X_test, field)"
   ]
  },
  {
   "cell_type": "code",
   "execution_count": 13,
   "id": "patient-frederick",
   "metadata": {},
   "outputs": [
    {
     "name": "stdout",
     "output_type": "stream",
     "text": [
      "field Glucose: num 0-entries: 0\n",
      "field BloodPressure: num 0-entries: 0\n",
      "field SkinThickness: num 0-entries: 0\n",
      "field Insulin: num 0-entries: 0\n",
      "field BMI: num 0-entries: 0\n"
     ]
    }
   ],
   "source": [
    "# double check for the Test dataset\n",
    "check_zero_entries(X_test, zero_fields)"
   ]
  },
  {
   "cell_type": "code",
   "execution_count": 14,
   "id": "suburban-davis",
   "metadata": {},
   "outputs": [],
   "source": [
    "# Ensure that fieldnames aren't included\n",
    "X_train = X_train.values\n",
    "y_train = y_train.values\n",
    "X_test  = X_test.values\n",
    "y_test  = y_test.values"
   ]
  },
  {
   "cell_type": "code",
   "execution_count": 15,
   "id": "detailed-midnight",
   "metadata": {
    "scrolled": false
   },
   "outputs": [
    {
     "name": "stdout",
     "output_type": "stream",
     "text": [
      "Starting training...\n"
     ]
    }
   ],
   "source": [
    "NB_EPOCHS = 1000  # num of epochs to test for\n",
    "# for output brevit sake I do not print the result of 1000 epochs\n",
    "# simply change verbose = 0 to verbose = 1 (below) to get epoch output details\n",
    "BATCH_SIZE = 16\n",
    "\n",
    "## Create our model\n",
    "model = Sequential()\n",
    "\n",
    "# 1st layer: input_dim=8, 12 nodes, RELU\n",
    "model.add(Dense(12, input_dim=8, kernel_initializer='random_uniform', activation='relu'))\n",
    "# 2nd layer: 8 nodes, RELU\n",
    "model.add(Dense(8, kernel_initializer='random_uniform', activation='relu'))\n",
    "# output layer: dim=1, activation sigmoid\n",
    "model.add(Dense(1, kernel_initializer='random_uniform', activation='sigmoid' ))\n",
    "\n",
    "# Compile the model\n",
    "model.compile(loss='binary_crossentropy',   # since we are predicting 0/1\n",
    "             optimizer='adam',\n",
    "             metrics=['accuracy'])\n",
    "\n",
    "# checkpoint: store the best model\n",
    "ckpt_model = 'pima-weights.best.hdf5'\n",
    "checkpoint = ModelCheckpoint(ckpt_model, \n",
    "                            monitor='val_accuracy',\n",
    "                            verbose=0,\n",
    "                            save_best_only=True,\n",
    "                            mode='max')\n",
    "callbacks_list = [checkpoint]\n",
    "\n",
    "print('Starting training...')\n",
    "# train the model, store the results for plotting\n",
    "history = model.fit(X_train,\n",
    "                    y_train,\n",
    "                    validation_data=(X_test, y_test),\n",
    "                    epochs=NB_EPOCHS,\n",
    "                    batch_size=BATCH_SIZE,\n",
    "                    callbacks=callbacks_list,\n",
    "                    verbose=0)"
   ]
  },
  {
   "cell_type": "code",
   "execution_count": 16,
   "id": "surgical-aquarium",
   "metadata": {},
   "outputs": [
    {
     "name": "stdout",
     "output_type": "stream",
     "text": [
      "24/24 - 0s - loss: 0.7084 - accuracy: 0.7500\n"
     ]
    },
    {
     "data": {
      "text/plain": [
       "[0.70839524269104, 0.75]"
      ]
     },
     "execution_count": 16,
     "metadata": {},
     "output_type": "execute_result"
    }
   ],
   "source": [
    "model.evaluate(X, y, verbose=2)"
   ]
  },
  {
   "cell_type": "code",
   "execution_count": 17,
   "id": "rational-standard",
   "metadata": {},
   "outputs": [
    {
     "name": "stdout",
     "output_type": "stream",
     "text": [
      "WARNING:tensorflow:From C:\\Users\\sbing\\.conda\\envs\\Tensorflow\\lib\\site-packages\\tensorflow\\python\\training\\tracking\\tracking.py:111: Model.state_updates (from tensorflow.python.keras.engine.training) is deprecated and will be removed in a future version.\n",
      "Instructions for updating:\n",
      "This property should not be used in TensorFlow 2.0, as updates are applied automatically.\n",
      "WARNING:tensorflow:From C:\\Users\\sbing\\.conda\\envs\\Tensorflow\\lib\\site-packages\\tensorflow\\python\\training\\tracking\\tracking.py:111: Layer.updates (from tensorflow.python.keras.engine.base_layer) is deprecated and will be removed in a future version.\n",
      "Instructions for updating:\n",
      "This property should not be used in TensorFlow 2.0, as updates are applied automatically.\n",
      "INFO:tensorflow:Assets written to: pima_diabetes\\assets\n"
     ]
    }
   ],
   "source": [
    "#you can copy the save and load from notebook 6.1\n",
    "#but change theoutput filename\n",
    "model.save(\"pima_diabetes\")\n",
    "#this created a 126.4 MB folder for me"
   ]
  },
  {
   "cell_type": "code",
   "execution_count": 18,
   "id": "after-mediterranean",
   "metadata": {},
   "outputs": [],
   "source": [
    "import tensorflow as tf\n",
    "from tensorflow import keras\n",
    "#even though you load the model, you still have to load the data above\n",
    "# and run the cells above tha define the vectorizer function, but\n",
    "#you should not need to fit the model ever again\n",
    "#once you get a good fit and save it.\n",
    "model = tf.keras.models.load_model('pima_diabetes')"
   ]
  },
  {
   "cell_type": "code",
   "execution_count": 19,
   "id": "civic-burton",
   "metadata": {},
   "outputs": [
    {
     "data": {
      "image/png": "[encoded data removed]",
      "text/plain": [
       "<Figure size 432x288 with 1 Axes>"
      ]
     },
     "metadata": {
      "needs_background": "light"
     },
     "output_type": "display_data"
    }
   ],
   "source": [
    "# Model accuracy\n",
    "plt.plot(history.history['accuracy'])\n",
    "plt.plot(history.history['val_accuracy'])\n",
    "plt.title('Model Accuracy')\n",
    "plt.ylabel('accuracy')\n",
    "plt.xlabel('epoch')\n",
    "plt.legend(['train', 'test'])\n",
    "plt.show()"
   ]
  },
  {
   "cell_type": "code",
   "execution_count": 20,
   "id": "remarkable-omaha",
   "metadata": {},
   "outputs": [
    {
     "data": {
      "image/png": "[encoded data removed]",
      "text/plain": [
       "<Figure size 432x288 with 1 Axes>"
      ]
     },
     "metadata": {
      "needs_background": "light"
     },
     "output_type": "display_data"
    }
   ],
   "source": [
    "# Model Losss\n",
    "plt.plot(history.history['loss'])\n",
    "plt.plot(history.history['val_loss'])\n",
    "plt.title('Model Loss')\n",
    "plt.ylabel('loss')\n",
    "plt.xlabel('epoch')\n",
    "plt.legend(['train', 'test'])\n",
    "plt.show()"
   ]
  },
  {
   "cell_type": "code",
   "execution_count": 21,
   "id": "consistent-corrections",
   "metadata": {},
   "outputs": [
    {
     "name": "stdout",
     "output_type": "stream",
     "text": [
      "accuracy: 78.12%\n"
     ]
    }
   ],
   "source": [
    "# print final accuracy\n",
    "scores = model.evaluate(X_test, y_test, verbose=0)\n",
    "print(\"%s: %.2f%%\" % (model.metrics_names[1], scores[1]*100))"
   ]
  },
  {
   "cell_type": "code",
   "execution_count": 22,
   "id": "spread-projection",
   "metadata": {},
   "outputs": [],
   "source": [
    "# make probability predictions with the model\n",
    "predictions = model.predict(X)\n",
    "# round predictions \n",
    "rounded = [round(x[0]) for x in predictions]"
   ]
  },
  {
   "cell_type": "code",
   "execution_count": 23,
   "id": "suitable-point",
   "metadata": {},
   "outputs": [],
   "source": [
    "# convert to nupy arrays for proper display\n",
    "X = np.array(X)\n",
    "y= np.array(y)"
   ]
  },
  {
   "cell_type": "code",
   "execution_count": 24,
   "id": "twenty-philadelphia",
   "metadata": {},
   "outputs": [
    {
     "name": "stdout",
     "output_type": "stream",
     "text": [
      "WARNING:tensorflow:From <ipython-input-24-4abddfd7715d>:1: Sequential.predict_classes (from tensorflow.python.keras.engine.sequential) is deprecated and will be removed after 2021-01-01.\n",
      "Instructions for updating:\n",
      "Please use instead:* `np.argmax(model.predict(x), axis=-1)`,   if your model does multi-class classification   (e.g. if it uses a `softmax` last-layer activation).* `(model.predict(x) > 0.5).astype(\"int32\")`,   if your model does binary classification   (e.g. if it uses a `sigmoid` last-layer activation).\n",
      "[6.0, 148.0, 72.0, 35.0, 0.0, 33.6, 0.627, 50.0] => 0 (expected 1)\n",
      "[1.0, 85.0, 66.0, 29.0, 0.0, 26.6, 0.351, 31.0] => 0 (expected 0)\n",
      "[8.0, 183.0, 64.0, 0.0, 0.0, 23.3, 0.672, 32.0] => 1 (expected 1)\n",
      "[1.0, 89.0, 66.0, 23.0, 94.0, 28.1, 0.167, 21.0] => 0 (expected 0)\n",
      "[0.0, 137.0, 40.0, 35.0, 168.0, 43.1, 2.288, 33.0] => 1 (expected 1)\n",
      "[5.0, 116.0, 74.0, 0.0, 0.0, 25.6, 0.201, 30.0] => 0 (expected 0)\n",
      "[3.0, 78.0, 50.0, 32.0, 88.0, 31.0, 0.248, 26.0] => 0 (expected 1)\n",
      "[10.0, 115.0, 0.0, 0.0, 0.0, 35.3, 0.134, 29.0] => 1 (expected 0)\n",
      "[2.0, 197.0, 70.0, 45.0, 543.0, 30.5, 0.158, 53.0] => 1 (expected 1)\n",
      "[8.0, 125.0, 96.0, 0.0, 0.0, 0.0, 0.232, 54.0] => 0 (expected 1)\n",
      "[4.0, 110.0, 92.0, 0.0, 0.0, 37.6, 0.191, 30.0] => 0 (expected 0)\n",
      "[10.0, 168.0, 74.0, 0.0, 0.0, 38.0, 0.537, 34.0] => 1 (expected 1)\n",
      "[10.0, 139.0, 80.0, 0.0, 0.0, 27.1, 1.441, 57.0] => 0 (expected 0)\n",
      "[1.0, 189.0, 60.0, 23.0, 846.0, 30.1, 0.398, 59.0] => 1 (expected 1)\n",
      "[5.0, 166.0, 72.0, 19.0, 175.0, 25.8, 0.587, 51.0] => 1 (expected 1)\n",
      "[7.0, 100.0, 0.0, 0.0, 0.0, 30.0, 0.484, 32.0] => 1 (expected 1)\n",
      "[0.0, 118.0, 84.0, 47.0, 230.0, 45.8, 0.551, 31.0] => 0 (expected 1)\n",
      "[7.0, 107.0, 74.0, 0.0, 0.0, 29.6, 0.254, 31.0] => 0 (expected 1)\n",
      "[1.0, 103.0, 30.0, 38.0, 83.0, 43.3, 0.183, 33.0] => 1 (expected 0)\n",
      "[1.0, 115.0, 70.0, 30.0, 96.0, 34.6, 0.529, 32.0] => 0 (expected 1)\n",
      "[3.0, 126.0, 88.0, 41.0, 235.0, 39.3, 0.704, 27.0] => 0 (expected 0)\n",
      "[8.0, 99.0, 84.0, 0.0, 0.0, 35.4, 0.388, 50.0] => 0 (expected 0)\n",
      "[7.0, 196.0, 90.0, 0.0, 0.0, 39.8, 0.451, 41.0] => 1 (expected 1)\n",
      "[9.0, 119.0, 80.0, 35.0, 0.0, 29.0, 0.263, 29.0] => 0 (expected 1)\n",
      "[11.0, 143.0, 94.0, 33.0, 146.0, 36.6, 0.254, 51.0] => 1 (expected 1)\n",
      "[10.0, 125.0, 70.0, 26.0, 115.0, 31.1, 0.205, 41.0] => 1 (expected 1)\n",
      "[7.0, 147.0, 76.0, 0.0, 0.0, 39.4, 0.257, 43.0] => 0 (expected 1)\n",
      "[1.0, 97.0, 66.0, 15.0, 140.0, 23.2, 0.487, 22.0] => 0 (expected 0)\n",
      "[13.0, 145.0, 82.0, 19.0, 110.0, 22.2, 0.245, 57.0] => 0 (expected 0)\n",
      "[5.0, 117.0, 92.0, 0.0, 0.0, 34.1, 0.337, 38.0] => 0 (expected 0)\n",
      "[5.0, 109.0, 75.0, 26.0, 0.0, 36.0, 0.546, 60.0] => 0 (expected 0)\n",
      "[3.0, 158.0, 76.0, 36.0, 245.0, 31.6, 0.851, 28.0] => 1 (expected 1)\n",
      "[3.0, 88.0, 58.0, 11.0, 54.0, 24.8, 0.267, 22.0] => 0 (expected 0)\n",
      "[6.0, 92.0, 92.0, 0.0, 0.0, 19.9, 0.188, 28.0] => 0 (expected 0)\n",
      "[10.0, 122.0, 78.0, 31.0, 0.0, 27.6, 0.512, 45.0] => 0 (expected 0)\n",
      "[4.0, 103.0, 60.0, 33.0, 192.0, 24.0, 0.966, 33.0] => 0 (expected 0)\n",
      "[11.0, 138.0, 76.0, 0.0, 0.0, 33.2, 0.42, 35.0] => 0 (expected 0)\n",
      "[9.0, 102.0, 76.0, 37.0, 0.0, 32.9, 0.665, 46.0] => 0 (expected 1)\n",
      "[2.0, 90.0, 68.0, 42.0, 0.0, 38.2, 0.503, 27.0] => 0 (expected 1)\n",
      "[4.0, 111.0, 72.0, 47.0, 207.0, 37.1, 1.39, 56.0] => 1 (expected 1)\n",
      "[3.0, 180.0, 64.0, 25.0, 70.0, 34.0, 0.271, 26.0] => 1 (expected 0)\n",
      "[7.0, 133.0, 84.0, 0.0, 0.0, 40.2, 0.696, 37.0] => 0 (expected 0)\n",
      "[7.0, 106.0, 92.0, 18.0, 0.0, 22.7, 0.235, 48.0] => 0 (expected 0)\n",
      "[9.0, 171.0, 110.0, 24.0, 240.0, 45.4, 0.721, 54.0] => 1 (expected 1)\n",
      "[7.0, 159.0, 64.0, 0.0, 0.0, 27.4, 0.294, 40.0] => 0 (expected 0)\n",
      "[0.0, 180.0, 66.0, 39.0, 0.0, 42.0, 1.893, 25.0] => 1 (expected 1)\n",
      "[1.0, 146.0, 56.0, 0.0, 0.0, 29.7, 0.564, 29.0] => 0 (expected 0)\n",
      "[2.0, 71.0, 70.0, 27.0, 0.0, 28.0, 0.586, 22.0] => 0 (expected 0)\n",
      "[7.0, 103.0, 66.0, 32.0, 0.0, 39.1, 0.344, 31.0] => 0 (expected 1)\n",
      "[7.0, 105.0, 0.0, 0.0, 0.0, 0.0, 0.305, 24.0] => 1 (expected 0)\n",
      "[1.0, 103.0, 80.0, 11.0, 82.0, 19.4, 0.491, 22.0] => 0 (expected 0)\n",
      "[1.0, 101.0, 50.0, 15.0, 36.0, 24.2, 0.526, 26.0] => 0 (expected 0)\n",
      "[5.0, 88.0, 66.0, 21.0, 23.0, 24.4, 0.342, 30.0] => 0 (expected 0)\n",
      "[8.0, 176.0, 90.0, 34.0, 300.0, 33.7, 0.467, 58.0] => 1 (expected 1)\n",
      "[7.0, 150.0, 66.0, 42.0, 342.0, 34.7, 0.718, 42.0] => 1 (expected 0)\n",
      "[1.0, 73.0, 50.0, 10.0, 0.0, 23.0, 0.248, 21.0] => 0 (expected 0)\n",
      "[7.0, 187.0, 68.0, 39.0, 304.0, 37.7, 0.254, 41.0] => 1 (expected 1)\n",
      "[0.0, 100.0, 88.0, 60.0, 110.0, 46.8, 0.962, 31.0] => 0 (expected 0)\n",
      "[0.0, 146.0, 82.0, 0.0, 0.0, 40.5, 1.781, 44.0] => 1 (expected 0)\n",
      "[0.0, 105.0, 64.0, 41.0, 142.0, 41.5, 0.173, 22.0] => 0 (expected 0)\n",
      "[2.0, 84.0, 0.0, 0.0, 0.0, 0.0, 0.304, 21.0] => 0 (expected 0)\n",
      "[8.0, 133.0, 72.0, 0.0, 0.0, 32.9, 0.27, 39.0] => 0 (expected 1)\n",
      "[5.0, 44.0, 62.0, 0.0, 0.0, 25.0, 0.587, 36.0] => 0 (expected 0)\n",
      "[2.0, 141.0, 58.0, 34.0, 128.0, 25.4, 0.699, 24.0] => 0 (expected 0)\n",
      "[7.0, 114.0, 66.0, 0.0, 0.0, 32.8, 0.258, 42.0] => 0 (expected 1)\n",
      "[5.0, 99.0, 74.0, 27.0, 0.0, 29.0, 0.203, 32.0] => 0 (expected 0)\n",
      "[0.0, 109.0, 88.0, 30.0, 0.0, 32.5, 0.855, 38.0] => 0 (expected 1)\n",
      "[2.0, 109.0, 92.0, 0.0, 0.0, 42.7, 0.845, 54.0] => 0 (expected 0)\n",
      "[1.0, 95.0, 66.0, 13.0, 38.0, 19.6, 0.334, 25.0] => 0 (expected 0)\n",
      "[4.0, 146.0, 85.0, 27.0, 100.0, 28.9, 0.189, 27.0] => 0 (expected 0)\n",
      "[2.0, 100.0, 66.0, 20.0, 90.0, 32.9, 0.867, 28.0] => 0 (expected 1)\n",
      "[5.0, 139.0, 64.0, 35.0, 140.0, 28.6, 0.411, 26.0] => 0 (expected 0)\n",
      "[13.0, 126.0, 90.0, 0.0, 0.0, 43.4, 0.583, 42.0] => 0 (expected 1)\n",
      "[4.0, 129.0, 86.0, 20.0, 270.0, 35.1, 0.231, 23.0] => 0 (expected 0)\n",
      "[1.0, 79.0, 75.0, 30.0, 0.0, 32.0, 0.396, 22.0] => 0 (expected 0)\n",
      "[1.0, 0.0, 48.0, 20.0, 0.0, 24.7, 0.14, 22.0] => 0 (expected 0)\n",
      "[7.0, 62.0, 78.0, 0.0, 0.0, 32.6, 0.391, 41.0] => 0 (expected 0)\n",
      "[5.0, 95.0, 72.0, 33.0, 0.0, 37.7, 0.37, 27.0] => 0 (expected 0)\n",
      "[0.0, 131.0, 0.0, 0.0, 0.0, 43.2, 0.27, 26.0] => 1 (expected 1)\n",
      "[2.0, 112.0, 66.0, 22.0, 0.0, 25.0, 0.307, 24.0] => 0 (expected 0)\n",
      "[3.0, 113.0, 44.0, 13.0, 0.0, 22.4, 0.14, 22.0] => 0 (expected 0)\n",
      "[2.0, 74.0, 0.0, 0.0, 0.0, 0.0, 0.102, 22.0] => 0 (expected 0)\n",
      "[7.0, 83.0, 78.0, 26.0, 71.0, 29.3, 0.767, 36.0] => 0 (expected 0)\n",
      "[0.0, 101.0, 65.0, 28.0, 0.0, 24.6, 0.237, 22.0] => 0 (expected 0)\n",
      "[5.0, 137.0, 108.0, 0.0, 0.0, 48.8, 0.227, 37.0] => 0 (expected 1)\n",
      "[2.0, 110.0, 74.0, 29.0, 125.0, 32.4, 0.698, 27.0] => 0 (expected 0)\n",
      "[13.0, 106.0, 72.0, 54.0, 0.0, 36.6, 0.178, 45.0] => 0 (expected 0)\n",
      "[2.0, 100.0, 68.0, 25.0, 71.0, 38.5, 0.324, 26.0] => 0 (expected 0)\n",
      "[15.0, 136.0, 70.0, 32.0, 110.0, 37.1, 0.153, 43.0] => 1 (expected 1)\n",
      "[1.0, 107.0, 68.0, 19.0, 0.0, 26.5, 0.165, 24.0] => 0 (expected 0)\n",
      "[1.0, 80.0, 55.0, 0.0, 0.0, 19.1, 0.258, 21.0] => 0 (expected 0)\n",
      "[4.0, 123.0, 80.0, 15.0, 176.0, 32.0, 0.443, 34.0] => 0 (expected 0)\n",
      "[7.0, 81.0, 78.0, 40.0, 48.0, 46.7, 0.261, 42.0] => 0 (expected 0)\n",
      "[4.0, 134.0, 72.0, 0.0, 0.0, 23.8, 0.277, 60.0] => 0 (expected 1)\n",
      "[2.0, 142.0, 82.0, 18.0, 64.0, 24.7, 0.761, 21.0] => 0 (expected 0)\n",
      "[6.0, 144.0, 72.0, 27.0, 228.0, 33.9, 0.255, 40.0] => 1 (expected 0)\n",
      "[2.0, 92.0, 62.0, 28.0, 0.0, 31.6, 0.13, 24.0] => 0 (expected 0)\n",
      "[1.0, 71.0, 48.0, 18.0, 76.0, 20.4, 0.323, 22.0] => 0 (expected 0)\n",
      "[6.0, 93.0, 50.0, 30.0, 64.0, 28.7, 0.356, 23.0] => 0 (expected 0)\n",
      "[1.0, 122.0, 90.0, 51.0, 220.0, 49.7, 0.325, 31.0] => 0 (expected 1)\n"
     ]
    }
   ],
   "source": [
    "predictions = model.predict_classes(X)\n",
    "# summarize the first 10 cases\n",
    "for i in range(100):\n",
    "\tprint('%s => %d (expected %d)' % (X[i].tolist(), predictions[i], y[i]))"
   ]
  },
  {
   "cell_type": "code",
   "execution_count": null,
   "id": "located-control",
   "metadata": {},
   "outputs": [],
   "source": []
  }
 ],
 "metadata": {
  "kernelspec": {
   "display_name": "Python 3",
   "language": "python",
   "name": "python3"
  },
  "language_info": {
   "codemirror_mode": {
    "name": "ipython",
    "version": 3
   },
   "file_extension": ".py",
   "mimetype": "text/x-python",
   "name": "python",
   "nbconvert_exporter": "python",
   "pygments_lexer": "ipython3",
   "version": "3.7.9"
  },
  "varInspector": {
   "cols": {
    "lenName": 16,
    "lenType": 16,
    "lenVar": 40
   },
   "kernels_config": {
    "python": {
     "delete_cmd_postfix": "",
     "delete_cmd_prefix": "del ",
     "library": "var_list.py",
     "varRefreshCmd": "print(var_dic_list())"
    },
    "r": {
     "delete_cmd_postfix": ") ",
     "delete_cmd_prefix": "rm(",
     "library": "var_list.r",
     "varRefreshCmd": "cat(var_dic_list()) "
    }
   },
   "types_to_exclude": [
    "module",
    "function",
    "builtin_function_or_method",
    "instance",
    "_Feature"
   ],
   "window_display": false
  }
 },
 "nbformat": 4,
 "nbformat_minor": 5
}
