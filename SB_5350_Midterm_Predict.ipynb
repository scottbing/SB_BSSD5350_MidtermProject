{
 "cells": [
  {
   "cell_type": "markdown",
   "id": "greater-spray",
   "metadata": {},
   "source": [
    "# BSSD5350 Midterm Project - Scott Bing\n",
    "\n",
    "*Source Citation* https://towardsdatascience.com/building-a-machine-learning-classifier-model-for-diabetes-4fca624daed0<br>\n",
    "*Source Citation* https://www.kaggle.com/atulnet/pima-diabetes-keras-implementation/notebook<br>\n",
    "\n",
    "# Diabetes Prediction - Make a Prediciton\n",
    "\n",
    "This program builds a classifier for Pima Indians Diabetes dataset - https://www.kaggle.com/uciml/pima-indians-diabetes-database. It is a binary (2-class) classification problem. There are 768 observations with 8 input variables and 1 output/target variable. The variable names are as follows:\n",
    "\n",
    "- Pregnancies: Number of times pregnant\n",
    "- Glucose: Plasma glucose concentration a 2 hours in an oral glucose tolerance test\n",
    "- BloodPressure: Diastolic blood pressure (mm Hg)\n",
    "- SkinThickness: Triceps skin fold thickness (mm)\n",
    "- Insulin: 2-Hour serum insulin (mu U/ml)\n",
    "- BMI: Body mass index (weight in kg/(height in m)^2)\n",
    "- DiabetesPedigreeFunction: Diabetes pedigree function\n",
    "- Age: Age (years)\n",
    "- Outcome: Class variable (0 or 1) 268 of 768 are 1, the others are 0"
   ]
  },
  {
   "cell_type": "code",
   "execution_count": 1,
   "id": "reported-cotton",
   "metadata": {},
   "outputs": [],
   "source": [
    "import numpy as np # linear algebra\n",
    "import pandas as pd # data processing, CSV file I/O (e.g. pd.read_cs"
   ]
  },
  {
   "cell_type": "code",
   "execution_count": 2,
   "id": "sustained-coupon",
   "metadata": {},
   "outputs": [],
   "source": [
    "import matplotlib.pyplot as plt\n",
    "%matplotlib inline\n",
    "\n",
    "from keras.models import Sequential\n",
    "from keras.layers import Dense\n",
    "from keras.callbacks import ModelCheckpoint\n",
    "\n",
    "seed = 42\n",
    "np.random.seed(seed)\n",
    "\n",
    "pd.set_option('mode.chained_assignment', None)"
   ]
  },
  {
   "cell_type": "code",
   "execution_count": 3,
   "id": "placed-kansas",
   "metadata": {},
   "outputs": [],
   "source": [
    "import tensorflow as tf\n",
    "from tensorflow import keras\n",
    "#even though you load the model, you still have to load the data above\n",
    "# and run the cells above tha define the vectorizer function, but\n",
    "#you should not need to fit the model ever again\n",
    "#once you get a good fit and save it.\n",
    "model = tf.keras.models.load_model('pima_diabetes')"
   ]
  },
  {
   "cell_type": "code",
   "execution_count": 4,
   "id": "genuine-marathon",
   "metadata": {},
   "outputs": [],
   "source": [
    "# create a sample patient\n",
    "#sample_patient = [3.0, 78.0, 50.0, 32.0, 88.0, 31.0, 0.248, 26.0]\n",
    "#sample_patient = [2, 196, 76, 48, 542, 31.6, 0.287, 53]\n",
    "sample_patient = [2.0, 197.0, 70.0, 45.0, 543.0, 30.5, 0.158, 53.0]\n",
    "samples_to_predict = []\n",
    "samples_to_predict.append(sample_patient)"
   ]
  },
  {
   "cell_type": "code",
   "execution_count": 5,
   "id": "digital-bullet",
   "metadata": {},
   "outputs": [
    {
     "name": "stdout",
     "output_type": "stream",
     "text": [
      "(1, 8)\n"
     ]
    }
   ],
   "source": [
    "# convert to nupy arrays for proper display\n",
    "samples_to_predict = np.array(samples_to_predict)\n",
    "print(samples_to_predict.shape)"
   ]
  },
  {
   "cell_type": "code",
   "execution_count": 6,
   "id": "saving-asian",
   "metadata": {},
   "outputs": [
    {
     "name": "stdout",
     "output_type": "stream",
     "text": [
      "[[0.9030446]]\n"
     ]
    }
   ],
   "source": [
    "# Generate predictions for samples\n",
    "predictions = model.predict(samples_to_predict)\n",
    "print(predictions)"
   ]
  },
  {
   "cell_type": "code",
   "execution_count": 7,
   "id": "brazilian-muslim",
   "metadata": {},
   "outputs": [
    {
     "name": "stdout",
     "output_type": "stream",
     "text": [
      "[[1]]\n",
      "Patient has diabetes\n"
     ]
    }
   ],
   "source": [
    "# Generate arg maxes for predictions\n",
    "#classes = np.argmax(predictions, axis = 1)\n",
    "classes = (predictions > 0.5).astype(\"int32\")\n",
    "print(classes)\n",
    "if classes == 1:\n",
    "    print(\"Patient has diabetes\")\n",
    "else:\n",
    "    print(\"patient does not have diabetes.\")"
   ]
  },
  {
   "cell_type": "code",
   "execution_count": 8,
   "id": "sophisticated-organ",
   "metadata": {},
   "outputs": [],
   "source": [
    "def predict(button):\n",
    "    # define empy numpy array to hold candiadt patient\n",
    "    sample_patient = []\n",
    "    \n",
    "    \n",
    "    #print(\"model trained and saved using this {1}.format(file)\") \n",
    "    #print(\"model trained and saved using this \", file )\n",
    "    print(\"predict_model\")\n",
    "    print(\"pregnancies: \", preg_slider.value)\n",
    "    sample_patient.append(int(preg_slider.value))\n",
    "    sample_patient.append(int(gluc_slider.value))\n",
    "    sample_patient.append(int(bp_slider.value))\n",
    "    sample_patient.append(int(skin_slider.value))\n",
    "    sample_patient.append(int(insulin_slider.value))\n",
    "    sample_patient.append(float(bmi_slider.value))\n",
    "    sample_patient.append(float(pedi_slider.value))\n",
    "    sample_patient.append(int(age_slider.value))\n",
    "    print(sample_patient)\n",
    "    if outcome_button.value:\n",
    "        print(\"You have predicted diabetes.\")\n",
    "    else:\n",
    "        print(\"You have predicted no diabetes.\")\n",
    "        \n",
    "    # convert ot numpy array\n",
    "    samples_to_predict = []\n",
    "    samples_to_predict.append(sample_patient)\n",
    "    samples_to_predict = np.array(samples_to_predict)\n",
    "    print(samples_to_predict.shape)\n",
    "    \n",
    "    # Generate predictions for samples\n",
    "    predictions = model.predict(samples_to_predict)\n",
    "    print(predictions)\n",
    "    \n",
    "    # Generate arg maxes for predictions\n",
    "    #classes = np.argmax(predictions, axis = 1)\n",
    "    classes = (predictions > 0.5).astype(\"int32\")\n",
    "    print(classes)\n",
    "    if classes == 1:\n",
    "        print(\"\\nThe Model has predicted that the patient has diabetes.\")\n",
    "    else:\n",
    "        print(\"\\nThe Model haspredicted that the patient does not have diabetes.\")"
   ]
  },
  {
   "cell_type": "code",
   "execution_count": 9,
   "id": "colored-participation",
   "metadata": {},
   "outputs": [
    {
     "name": "stderr",
     "output_type": "stream",
     "text": [
      "Enabling notebook extension jupyter-js-widgets/extension...\n",
      "      - Validating: ok\n"
     ]
    }
   ],
   "source": [
    "from IPython.display import display\n",
    "from ipywidgets import Button, FloatSlider, IntSlider, Box, VBox, ToggleButton\n",
    "!jupyter nbextension enable --py widgetsnbextension\n",
    "\n",
    "style = {'description_width': 'initial'}\n",
    "#title = 'Candidate Patient for Prediciton'\n",
    "#labelTitle = widgets.Label(value = r'\\(\\color{red} {' + title  + '}\\)')\n",
    "\n",
    "preg_slider = IntSlider(\n",
    "    value=0.,\n",
    "    min=0.,\n",
    "    max=20,\n",
    "    step=1,\n",
    "    description='Pregnacies:',\n",
    "    readout_format='.1f',\n",
    ")\n",
    "preg_slider\n",
    "\n",
    "gluc_slider = IntSlider(\n",
    "    value=0,\n",
    "    min=0,\n",
    "    max=200,\n",
    "    step=1,\n",
    "    description='Glucouse:',\n",
    "    readout_format='1d',\n",
    ")\n",
    "gluc_slider\n",
    "\n",
    "bp_slider = IntSlider(\n",
    "    value=0,\n",
    "    min=1.0,\n",
    "    max=130,\n",
    "    step=1,\n",
    "    description='Blood Pressure:',\n",
    "    readout_format='1d',\n",
    "    style=style,\n",
    ")\n",
    "bp_slider\n",
    "\n",
    "skin_slider = IntSlider(\n",
    "    value=0,\n",
    "    min=1,\n",
    "    max=100,\n",
    "    step=1,\n",
    "    description='Skin Thickness:',\n",
    "    readout_format='1d',\n",
    "    style=style,\n",
    ")\n",
    "skin_slider\n",
    "\n",
    "insulin_slider = IntSlider(\n",
    "    value=0,\n",
    "    min=1,\n",
    "    max=1000,\n",
    "    step=1,\n",
    "    description='Insulin:',\n",
    "    readout_format='1d',\n",
    ")\n",
    "insulin_slider\n",
    "\n",
    "bmi_slider = FloatSlider(\n",
    "    value=1.0,\n",
    "    min=1.0,\n",
    "    max=100.0,\n",
    "    step=0.1,\n",
    "    description='BMI:',\n",
    "    readout_format='.1f',\n",
    ")\n",
    "bmi_slider\n",
    "\n",
    "pedi_slider = FloatSlider(\n",
    "    value=0.001,\n",
    "    min=0.0,\n",
    "    max=2.0,\n",
    "    step=0.001,\n",
    "    description='Pedigree Function:',\n",
    "    readout_format='0.001f',\n",
    "    style=style,\n",
    ")\n",
    "pedi_slider\n",
    "\n",
    "age_slider = IntSlider(\n",
    "    value=1.,\n",
    "    min=1.,\n",
    "    max=120,\n",
    "    step=1,\n",
    "    description='Age:',\n",
    "    readout_format='1d',\n",
    ")\n",
    "age_slider\n",
    "\n",
    "outcome_button = ToggleButton(\n",
    "    value=False,\n",
    "    description='Has Diabetes',\n",
    "    icon='check'\n",
    ")\n",
    "outcome_button\n",
    "\n",
    "# define button\n",
    "btn=Button(description=\"Predict\", style= {'button_color':'lightgreen'},)\n",
    "#display(btn)\n",
    "btn.on_click(predict) #predict is not defined will give error"
   ]
  },
  {
   "cell_type": "code",
   "execution_count": 10,
   "id": "modern-inflation",
   "metadata": {},
   "outputs": [
    {
     "data": {
      "application/vnd.jupyter.widget-view+json": {
       "model_id": "abc556c5e27645c89429e1e54cb8d7fd",
       "version_major": 2,
       "version_minor": 0
      },
      "text/plain": [
       "VBox(children=(Box(children=(Label(value='\\\\(\\\\color{red} {Candidate Patient for Prediciton}\\\\)'),)), Box(chil…"
      ]
     },
     "metadata": {},
     "output_type": "display_data"
    }
   ],
   "source": [
    "import ipywidgets as widgets\n",
    "title_widget = widgets.HTML('<em>Box Example</em>')\n",
    "slider = widgets.IntSlider()\n",
    "style = {'description_width': 'initial'}\n",
    "title = 'Candidate Patient for Prediciton'\n",
    "labelTitle = widgets.Label(value = r'\\(\\color{red} {' + title  + '}\\)')\n",
    "\n",
    "box1 = widgets.Box([labelTitle])\n",
    "box2 = widgets.Box([preg_slider, gluc_slider, bp_slider])\n",
    "box3 = widgets.Box([skin_slider, insulin_slider, bmi_slider])\n",
    "box4 = widgets.Box([pedi_slider, age_slider, outcome_button])\n",
    "box5 = widgets.Box([btn])\n",
    "widgets.VBox([box1, box2, box3, box4, box5])"
   ]
  },
  {
   "cell_type": "code",
   "execution_count": null,
   "id": "sunrise-belfast",
   "metadata": {},
   "outputs": [],
   "source": []
  }
 ],
 "metadata": {
  "kernelspec": {
   "display_name": "Python 3",
   "language": "python",
   "name": "python3"
  },
  "language_info": {
   "codemirror_mode": {
    "name": "ipython",
    "version": 3
   },
   "file_extension": ".py",
   "mimetype": "text/x-python",
   "name": "python",
   "nbconvert_exporter": "python",
   "pygments_lexer": "ipython3",
   "version": "3.7.9"
  },
  "varInspector": {
   "cols": {
    "lenName": 16,
    "lenType": 16,
    "lenVar": 40
   },
   "kernels_config": {
    "python": {
     "delete_cmd_postfix": "",
     "delete_cmd_prefix": "del ",
     "library": "var_list.py",
     "varRefreshCmd": "print(var_dic_list())"
    },
    "r": {
     "delete_cmd_postfix": ") ",
     "delete_cmd_prefix": "rm(",
     "library": "var_list.r",
     "varRefreshCmd": "cat(var_dic_list()) "
    }
   },
   "types_to_exclude": [
    "module",
    "function",
    "builtin_function_or_method",
    "instance",
    "_Feature"
   ],
   "window_display": false
  }
 },
 "nbformat": 4,
 "nbformat_minor": 5
}
