{
 "cells": [
  {
   "cell_type": "markdown",
   "id": "preceding-blackjack",
   "metadata": {},
   "source": [
    "# BSSD5350 Midterm Project - Scott Bing\n",
    "\n",
    "*Source Citation* https://towardsdatascience.com/building-a-machine-learning-classifier-model-for-diabetes-4fca624daed0<br>\n",
    "*Source Citation* https://www.kaggle.com/atulnet/pima-diabetes-keras-implementation/notebook<br>\n",
    "\n",
    "# Diabetes Prediction - Make a Prediciton\n",
    "\n",
    "This program builds a classifier for Pima Indians Diabetes dataset - https://www.kaggle.com/uciml/pima-indians-diabetes-database. It is a binary (2-class) classification problem. There are 768 observations with 8 input variables and 1 output/target variable. The variable names are as follows:\n",
    "\n",
    "- Pregnancies: Number of times pregnant\n",
    "- Glucose: Plasma glucose concentration a 2 hours in an oral glucose tolerance test\n",
    "- BloodPressure: Diastolic blood pressure (mm Hg)\n",
    "- SkinThickness: Triceps skin fold thickness (mm)\n",
    "- Insulin: 2-Hour serum insulin (mu U/ml)\n",
    "- BMI: Body mass index (weight in kg/(height in m)^2)\n",
    "- DiabetesPedigreeFunction: Diabetes pedigree function\n",
    "- Age: Age (years)\n",
    "- Outcome: Class variable (0 or 1) 268 of 768 are 1, the others are 0"
   ]
  },
  {
   "cell_type": "code",
   "execution_count": 1,
   "id": "demonstrated-assessment",
   "metadata": {},
   "outputs": [],
   "source": [
    "import numpy as np # linear algebra\n",
    "import pandas as pd # data processing, CSV file I/O (e.g. pd.read_cs"
   ]
  },
  {
   "cell_type": "code",
   "execution_count": 2,
   "id": "described-croatia",
   "metadata": {},
   "outputs": [],
   "source": [
    "import matplotlib.pyplot as plt\n",
    "%matplotlib inline\n",
    "\n",
    "from keras.models import Sequential\n",
    "from keras.layers import Dense\n",
    "from keras.callbacks import ModelCheckpoint\n",
    "\n",
    "seed = 42\n",
    "np.random.seed(seed)\n",
    "\n",
    "pd.set_option('mode.chained_assignment', None)"
   ]
  },
  {
   "cell_type": "code",
   "execution_count": 3,
   "id": "individual-transportation",
   "metadata": {},
   "outputs": [],
   "source": [
    "import tensorflow as tf\n",
    "from tensorflow import keras\n",
    "#even though you load the model, you still have to load the data above\n",
    "# and run the cells above tha define the vectorizer function, but\n",
    "#you should not need to fit the model ever again\n",
    "#once you get a good fit and save it.\n",
    "model = tf.keras.models.load_model('pima_diabetes')"
   ]
  },
  {
   "cell_type": "code",
   "execution_count": 4,
   "id": "determined-eleven",
   "metadata": {},
   "outputs": [],
   "source": [
    "# create a sample patient\n",
    "sample_patient = [3.0, 78.0, 50.0, 32.0, 88.0, 31.0, 0.248, 26.0]\n",
    "samples_to_predict = []\n",
    "samples_to_predict.append(sample_patient)"
   ]
  },
  {
   "cell_type": "code",
   "execution_count": 5,
   "id": "functioning-square",
   "metadata": {},
   "outputs": [
    {
     "name": "stdout",
     "output_type": "stream",
     "text": [
      "(1, 8)\n"
     ]
    }
   ],
   "source": [
    "# convert to nupy arrays for proper display\n",
    "samples_to_predict = np.array(samples_to_predict)\n",
    "print(samples_to_predict.shape)"
   ]
  },
  {
   "cell_type": "code",
   "execution_count": 6,
   "id": "portable-swiss",
   "metadata": {},
   "outputs": [
    {
     "name": "stdout",
     "output_type": "stream",
     "text": [
      "[[0.03784806]]\n"
     ]
    }
   ],
   "source": [
    "# Generate predictions for samples\n",
    "predictions = model.predict(samples_to_predict)\n",
    "print(predictions)"
   ]
  },
  {
   "cell_type": "code",
   "execution_count": 7,
   "id": "close-bridge",
   "metadata": {},
   "outputs": [
    {
     "name": "stdout",
     "output_type": "stream",
     "text": [
      "[0]\n",
      "patient does not have diabetes.\n"
     ]
    }
   ],
   "source": [
    "# Generate arg maxes for predictions\n",
    "classes = np.argmax(predictions, axis = 1)\n",
    "print(classes)\n",
    "if classes == 1:\n",
    "    print(\"Patient has diabetes\")\n",
    "else:\n",
    "    print(\"patient does not have diabetes.\")"
   ]
  },
  {
   "cell_type": "code",
   "execution_count": 8,
   "id": "incorporated-pattern",
   "metadata": {},
   "outputs": [],
   "source": [
    "def predict(button):\n",
    "    #print(\"model trained and saved using this {1}.format(file)\") \n",
    "    #print(\"model trained and saved using this \", file )\n",
    "    print(\"train_model\")"
   ]
  },
  {
   "cell_type": "code",
   "execution_count": 9,
   "id": "moving-europe",
   "metadata": {},
   "outputs": [
    {
     "name": "stderr",
     "output_type": "stream",
     "text": [
      "Enabling notebook extension jupyter-js-widgets/extension...\n",
      "      - Validating: ok\n"
     ]
    },
    {
     "data": {
      "application/vnd.jupyter.widget-view+json": {
       "model_id": "df7c4193c78f454ea58b242fddcbfe45",
       "version_major": 2,
       "version_minor": 0
      },
      "text/plain": [
       "Button(description='Predict', style=ButtonStyle())"
      ]
     },
     "metadata": {},
     "output_type": "display_data"
    },
    {
     "name": "stdout",
     "output_type": "stream",
     "text": [
      "train_model\n"
     ]
    }
   ],
   "source": [
    "from IPython.display import display\n",
    "from ipywidgets import Button\n",
    "!jupyter nbextension enable --py widgetsnbextension\n",
    "\n",
    "# define button\n",
    "btn=Button(description=\"Predict\")\n",
    "display(btn)\n",
    "btn.on_click(predict) #predict is not defined will give error"
   ]
  }
 ],
 "metadata": {
  "kernelspec": {
   "display_name": "Python 3",
   "language": "python",
   "name": "python3"
  },
  "language_info": {
   "codemirror_mode": {
    "name": "ipython",
    "version": 3
   },
   "file_extension": ".py",
   "mimetype": "text/x-python",
   "name": "python",
   "nbconvert_exporter": "python",
   "pygments_lexer": "ipython3",
   "version": "3.7.9"
  },
  "varInspector": {
   "cols": {
    "lenName": 16,
    "lenType": 16,
    "lenVar": 40
   },
   "kernels_config": {
    "python": {
     "delete_cmd_postfix": "",
     "delete_cmd_prefix": "del ",
     "library": "var_list.py",
     "varRefreshCmd": "print(var_dic_list())"
    },
    "r": {
     "delete_cmd_postfix": ") ",
     "delete_cmd_prefix": "rm(",
     "library": "var_list.r",
     "varRefreshCmd": "cat(var_dic_list()) "
    }
   },
   "types_to_exclude": [
    "module",
    "function",
    "builtin_function_or_method",
    "instance",
    "_Feature"
   ],
   "window_display": false
  }
 },
 "nbformat": 4,
 "nbformat_minor": 5
}
